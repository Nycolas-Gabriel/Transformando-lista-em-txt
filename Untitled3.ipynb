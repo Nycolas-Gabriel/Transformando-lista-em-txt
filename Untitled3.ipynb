{
  "nbformat": 4,
  "nbformat_minor": 0,
  "metadata": {
    "colab": {
      "provenance": []
    },
    "kernelspec": {
      "name": "python3",
      "display_name": "Python 3"
    },
    "language_info": {
      "name": "python"
    }
  },
  "cells": [
    {
      "cell_type": "code",
      "source": [
        "lista = !pip freeze\n",
        "def escrevendo_txt(nome_do_arquivo: str, lista: list)->None:\n",
        "  with open(nome_do_arquivo + \".txt\", mode = 'w', encoding= 'utf8') as arquivo:\n",
        "    for elemento in lista:\n",
        "      arquivo.write((elemento) + '\\n')\n",
        "escrevendo_txt(\"nome do arquivo\",lista)"
      ],
      "metadata": {
        "id": "UQtAMjMwsf9O"
      },
      "execution_count": 18,
      "outputs": []
    }
  ]
}